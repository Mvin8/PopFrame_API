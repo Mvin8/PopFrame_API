{
 "cells": [
  {
   "cell_type": "code",
   "execution_count": 4,
   "metadata": {},
   "outputs": [],
   "source": [
    "import geopandas as gpd\n",
    "import json\n",
    "from io import StringIO"
   ]
  },
  {
   "cell_type": "code",
   "execution_count": 5,
   "metadata": {},
   "outputs": [
    {
     "data": {
      "text/plain": [
       "[{'territory': 'Шиссельбург',\n",
       "  'score': 3,\n",
       "  'interpretation': 'территория находится внутри или непосредственной близости небольшого населенного пункта',\n",
       "  'closest_settlement': 'Шлиссельбург',\n",
       "  'closest_settlement1': None,\n",
       "  'closest_settlement2': None}]"
      ]
     },
     "execution_count": 5,
     "metadata": {},
     "output_type": "execute_result"
    }
   ],
   "source": [
    "geojson_data = {\n",
    "    \"type\": \"FeatureCollection\",\n",
    "    \"name\": \"project Шлиссельбург\",\n",
    "    \"crs\": { \"type\": \"name\", \"properties\": { \"name\": \"urn:ogc:def:crs:OGC:1.3:CRS84\" } },\n",
    "    \"features\": [\n",
    "        { \"type\": \"Feature\", \"properties\": { \"building\": None, \"name\": \"Шиссельбург\", \"addr:street\": None, \"addr:housenumber\": None, \"addr:city\": None, \"type\": \"project\", \"is_living\": None }, \"geometry\": { \"type\": \"Polygon\", \"coordinates\": [ [ [ 30.993913172856011, 59.924597611350642 ], [ 30.999718075936872, 59.92939124524851 ], [ 31.02331219813648, 59.925349599879553 ], [ 31.051774948726486, 59.922247536976649 ], [ 31.049527889469388, 59.916794721233835 ], [ 31.047655340088465, 59.915572415065995 ], [ 31.044659261078984, 59.908989990082127 ], [ 31.003837684574897, 59.909178077541952 ], [ 31.001216115441608, 59.911058893338229 ], [ 30.992976898165544, 59.910964855087578 ], [ 30.989793564217987, 59.915196311774075 ], [ 30.989793564217987, 59.919239198078628 ], [ 30.993913172856011, 59.924597611350642 ] ] ] } }\n",
    "    ]\n",
    "}\n",
    "\n",
    "import requests\n",
    "\n",
    "response = requests.post(\"http://localhost:8000/evaluate_territory_location\", json=geojson_data)\n",
    "\n",
    "response.json()"
   ]
  },
  {
   "cell_type": "code",
   "execution_count": 6,
   "metadata": {},
   "outputs": [
    {
     "data": {
      "text/plain": [
       "[{'project': 'Шиссельбург',\n",
       "  'average_population_density': 103.6,\n",
       "  'average_population_growth': -1053.0,\n",
       "  'score': 3}]"
      ]
     },
     "execution_count": 6,
     "metadata": {},
     "output_type": "execute_result"
    }
   ],
   "source": [
    "import requests\n",
    "\n",
    "geojson_data = {\n",
    "    \"type\": \"FeatureCollection\",\n",
    "    \"name\": \"project Шлиссельбург\",\n",
    "    \"crs\": { \"type\": \"name\", \"properties\": { \"name\": \"urn:ogc:def:crs:OGC:1.3:CRS84\" } },\n",
    "    \"features\": [\n",
    "        { \"type\": \"Feature\", \"properties\": { \"building\": None, \"name\": \"Шиссельбург\", \"addr:street\": None, \"addr:housenumber\": None, \"addr:city\": None, \"type\": \"project\", \"is_living\": None }, \"geometry\": { \"type\": \"Polygon\", \"coordinates\": [ [ [ 30.993913172856011, 59.924597611350642 ], [ 30.999718075936872, 59.92939124524851 ], [ 31.02331219813648, 59.925349599879553 ], [ 31.051774948726486, 59.922247536976649 ], [ 31.049527889469388, 59.916794721233835 ], [ 31.047655340088465, 59.915572415065995 ], [ 31.044659261078984, 59.908989990082127 ], [ 31.003837684574897, 59.909178077541952 ], [ 31.001216115441608, 59.911058893338229 ], [ 30.992976898165544, 59.910964855087578 ], [ 30.989793564217987, 59.915196311774075 ], [ 30.989793564217987, 59.919239198078628 ], [ 30.993913172856011, 59.924597611350642 ] ] ] } }\n",
    "    ]\n",
    "}\n",
    "\n",
    "# Вызов нового эндпоинта population_criterion\n",
    "response = requests.post(\"http://localhost:8000/population_criterion\", json=geojson_data)\n",
    "\n",
    "response.json()"
   ]
  },
  {
   "cell_type": "code",
   "execution_count": 7,
   "metadata": {},
   "outputs": [
    {
     "data": {
      "text/plain": [
       "[{'category': 'Сельско-хозяйственная', 'scores': [6, 1]},\n",
       " {'category': 'Транспортная инженерная', 'scores': [6, 0]},\n",
       " {'category': 'Жилая застройка - ИЖС', 'scores': [4, 1]},\n",
       " {'category': 'Специального назначения - туристический кластер',\n",
       "  'scores': [4, 0]},\n",
       " {'category': 'Жилая застройка - Малоэтажная', 'scores': [3, 1]},\n",
       " {'category': 'Общественно-деловая', 'scores': [3, 1]},\n",
       " {'category': 'Специального назначения - медицинский центр', 'scores': [3, 0]},\n",
       " {'category': 'Промышленная', 'scores': [3, 0]},\n",
       " {'category': 'Жилая застройка - Среднеэтажная', 'scores': [2, 1]},\n",
       " {'category': 'Жилая застройка - Многоэтажная', 'scores': [2, 1]},\n",
       " {'category': 'Рекреационная', 'scores': [6, 0]}]"
      ]
     },
     "execution_count": 7,
     "metadata": {},
     "output_type": "execute_result"
    }
   ],
   "source": [
    "import requests\n",
    "\n",
    "territories_criteria = {\n",
    "    \"population\": 2,\n",
    "    \"transport\": 3,\n",
    "    \"ecology\": 5,\n",
    "    \"social_objects\": 3,\n",
    "    \"engineering_infrastructure\": 2,\n",
    "    \"culture_leisure_sport\": 3\n",
    "}\n",
    "\n",
    "response = requests.post(\"http://localhost:8000/calculate_potential\", json=territories_criteria)\n",
    "\n",
    "response.json()\n"
   ]
  }
 ],
 "metadata": {
  "kernelspec": {
   "display_name": "Python 3.10.11 ('.venv': venv)",
   "language": "python",
   "name": "python3"
  },
  "language_info": {
   "codemirror_mode": {
    "name": "ipython",
    "version": 3
   },
   "file_extension": ".py",
   "mimetype": "text/x-python",
   "name": "python",
   "nbconvert_exporter": "python",
   "pygments_lexer": "ipython3",
   "version": "3.10.11"
  },
  "orig_nbformat": 4,
  "vscode": {
   "interpreter": {
    "hash": "c21a1bc2b911f732fdac23cd1feeec595a0a7d9546824e5c60cad34dd54c0319"
   }
  }
 },
 "nbformat": 4,
 "nbformat_minor": 2
}
